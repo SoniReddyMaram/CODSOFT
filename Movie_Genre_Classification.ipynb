{
  "nbformat": 4,
  "nbformat_minor": 0,
  "metadata": {
    "colab": {
      "provenance": [],
      "authorship_tag": "ABX9TyN/PASnvCjQxrFd4ZltLde1",
      "include_colab_link": true
    },
    "kernelspec": {
      "name": "python3",
      "display_name": "Python 3"
    },
    "language_info": {
      "name": "python"
    }
  },
  "cells": [
    {
      "cell_type": "markdown",
      "metadata": {
        "id": "view-in-github",
        "colab_type": "text"
      },
      "source": [
        "<a href=\"https://colab.research.google.com/github/SoniReddyMaram/CODSOFT/blob/main/Movie_Genre_Classification.ipynb\" target=\"_parent\"><img src=\"https://colab.research.google.com/assets/colab-badge.svg\" alt=\"Open In Colab\"/></a>"
      ]
    },
    {
      "cell_type": "code",
      "source": [
        "import pandas as pd\n",
        "import numpy as np\n",
        "import matplotlib.pyplot as plt\n",
        "import seaborn as sns\n",
        "from collections import Counter\n",
        "import warnings\n",
        "from sklearn.preprocessing import LabelEncoder\n",
        "from sklearn.feature_extraction.text import TfidfVectorizer\n",
        "from sklearn.model_selection import train_test_split\n",
        "from sklearn.metrics import classification_report\n",
        "from sklearn.linear_model import LogisticRegression\n",
        "from sklearn.naive_bayes import MultinomialNB\n",
        "from sklearn.svm import LinearSVC\n",
        "from sklearn.ensemble import RandomForestClassifier"
      ],
      "metadata": {
        "id": "8Fkr3lND3o07"
      },
      "execution_count": 31,
      "outputs": []
    },
    {
      "cell_type": "code",
      "source": [
        "df_train = pd.read_csv(\"train_data.txt\",sep=':::', names=['ID', 'TITLE', 'GENRE', 'DESCRIPTION'], engine='python')\n",
        "df_test = pd.read_csv(\"test_data.txt\",sep=':::', names=['ID', 'TITLE', 'DESCRIPTION'], engine='python')\n",
        "df_test_solution= pd.read_csv(\"test_data_solution.txt\",sep=':::', names=['ID', 'TITLE', 'GENRE', 'DESCRIPTION'], engine='python')"
      ],
      "metadata": {
        "id": "uaQ6WirE0ymB"
      },
      "execution_count": 2,
      "outputs": []
    },
    {
      "cell_type": "code",
      "source": [
        "df_train.info()"
      ],
      "metadata": {
        "colab": {
          "base_uri": "https://localhost:8080/"
        },
        "id": "bG5kXW751ypb",
        "outputId": "0e56b4d9-9632-4b86-e5be-90cc26b14273"
      },
      "execution_count": 3,
      "outputs": [
        {
          "output_type": "stream",
          "name": "stdout",
          "text": [
            "<class 'pandas.core.frame.DataFrame'>\n",
            "RangeIndex: 54214 entries, 0 to 54213\n",
            "Data columns (total 4 columns):\n",
            " #   Column       Non-Null Count  Dtype \n",
            "---  ------       --------------  ----- \n",
            " 0   ID           54214 non-null  int64 \n",
            " 1   TITLE        54214 non-null  object\n",
            " 2   GENRE        54214 non-null  object\n",
            " 3   DESCRIPTION  54214 non-null  object\n",
            "dtypes: int64(1), object(3)\n",
            "memory usage: 1.7+ MB\n"
          ]
        }
      ]
    },
    {
      "cell_type": "code",
      "source": [
        "df_test.info()"
      ],
      "metadata": {
        "colab": {
          "base_uri": "https://localhost:8080/"
        },
        "id": "eriAfYOp2CMN",
        "outputId": "42861c5b-a1f8-49ea-a7bc-040a22371b67"
      },
      "execution_count": 4,
      "outputs": [
        {
          "output_type": "stream",
          "name": "stdout",
          "text": [
            "<class 'pandas.core.frame.DataFrame'>\n",
            "RangeIndex: 54200 entries, 0 to 54199\n",
            "Data columns (total 3 columns):\n",
            " #   Column       Non-Null Count  Dtype \n",
            "---  ------       --------------  ----- \n",
            " 0   ID           54200 non-null  int64 \n",
            " 1   TITLE        54200 non-null  object\n",
            " 2   DESCRIPTION  54200 non-null  object\n",
            "dtypes: int64(1), object(2)\n",
            "memory usage: 1.2+ MB\n"
          ]
        }
      ]
    },
    {
      "cell_type": "code",
      "source": [
        "df_test_solution.info()"
      ],
      "metadata": {
        "colab": {
          "base_uri": "https://localhost:8080/"
        },
        "id": "suX8A3--2EXY",
        "outputId": "fc027e4b-5c2b-4a03-d541-910be5a41262"
      },
      "execution_count": 5,
      "outputs": [
        {
          "output_type": "stream",
          "name": "stdout",
          "text": [
            "<class 'pandas.core.frame.DataFrame'>\n",
            "RangeIndex: 54200 entries, 0 to 54199\n",
            "Data columns (total 4 columns):\n",
            " #   Column       Non-Null Count  Dtype \n",
            "---  ------       --------------  ----- \n",
            " 0   ID           54200 non-null  int64 \n",
            " 1   TITLE        54200 non-null  object\n",
            " 2   GENRE        54200 non-null  object\n",
            " 3   DESCRIPTION  54200 non-null  object\n",
            "dtypes: int64(1), object(3)\n",
            "memory usage: 1.7+ MB\n"
          ]
        }
      ]
    },
    {
      "cell_type": "code",
      "source": [
        "df_train=df_train.drop(columns=['ID'],axis=1)\n",
        "df_test=df_test.drop(columns=['ID'],axis=1)\n",
        "\n",
        "le = LabelEncoder()\n",
        "df_train['GENRE'] = le.fit_transform(df_train['GENRE'])\n",
        "\n",
        "df_test_solution['GENRE'] = le.fit_transform(df_test_solution['GENRE'])\n",
        "\n",
        "\n",
        "df_train['combined_text'] = df_train['TITLE'] + ' ' + df_train['DESCRIPTION']\n",
        "df_test['combined_text'] = df_test['TITLE'] + ' ' + df_test['DESCRIPTION']\n",
        "\n",
        "X_train=df_train.drop(['GENRE','DESCRIPTION','TITLE'],axis=1)\n",
        "\n",
        "X_test=df_test.drop(['DESCRIPTION','TITLE'],axis=1)\n",
        "\n",
        "y_train=df_train['GENRE']\n",
        "y_test=df_test_solution['GENRE']\n",
        "\n",
        "\n",
        "tfidf_vectorizer = TfidfVectorizer(stop_words='english')\n",
        "\n",
        "# Fit the vectorizer on X_train\n",
        "tfidf_vectorizer.fit(X_train['combined_text'])\n",
        "\n",
        "X_train = tfidf_vectorizer.transform(X_train['combined_text'])\n",
        "X_test = tfidf_vectorizer.transform(X_test['combined_text'])\n",
        "\n",
        "\n",
        "x_train,x_val,y_train,y_val=train_test_split(X_train,y_train,test_size=0.1)"
      ],
      "metadata": {
        "id": "jKQO__lr2SYt"
      },
      "execution_count": 6,
      "outputs": []
    },
    {
      "cell_type": "code",
      "source": [
        "#Logistic Regression\n",
        "log_model=LogisticRegression(solver='lbfgs', max_iter=1000)\n",
        "log_model.fit(x_train,y_train)\n",
        "y_train_pred=log_model.predict(x_train)\n",
        "print(classification_report(y_train,y_train_pred, zero_division=0))"
      ],
      "metadata": {
        "colab": {
          "base_uri": "https://localhost:8080/"
        },
        "id": "kxMbKoPZ4Lxx",
        "outputId": "f8622dbe-5882-456f-f643-6e25fcb46d5e"
      },
      "execution_count": 9,
      "outputs": [
        {
          "output_type": "stream",
          "name": "stdout",
          "text": [
            "              precision    recall  f1-score   support\n",
            "\n",
            "           0       0.82      0.44      0.57      1188\n",
            "           1       0.94      0.40      0.57       535\n",
            "           2       0.90      0.26      0.41       703\n",
            "           3       0.95      0.12      0.21       446\n",
            "           4       0.00      0.00      0.00       249\n",
            "           5       0.72      0.80      0.76      6664\n",
            "           6       0.79      0.05      0.10       446\n",
            "           7       0.74      0.95      0.83     11819\n",
            "           8       0.65      0.92      0.77     12286\n",
            "           9       0.84      0.18      0.30       719\n",
            "          10       0.85      0.04      0.07       287\n",
            "          11       0.97      0.54      0.70       180\n",
            "          12       0.00      0.00      0.00       220\n",
            "          13       0.83      0.77      0.80      1977\n",
            "          14       0.88      0.55      0.67       669\n",
            "          15       0.90      0.04      0.07       249\n",
            "          16       1.00      0.03      0.06       283\n",
            "          17       0.88      0.04      0.08       166\n",
            "          18       0.83      0.29      0.43       783\n",
            "          19       0.81      0.04      0.08       589\n",
            "          20       0.84      0.38      0.52       576\n",
            "          21       0.78      0.55      0.64      4541\n",
            "          22       0.91      0.36      0.51       383\n",
            "          23       0.91      0.21      0.34       350\n",
            "          24       0.78      0.29      0.42      1434\n",
            "          25       0.00      0.00      0.00       116\n",
            "          26       0.97      0.82      0.89       934\n",
            "\n",
            "    accuracy                           0.72     48792\n",
            "   macro avg       0.76      0.34      0.40     48792\n",
            "weighted avg       0.74      0.72      0.69     48792\n",
            "\n"
          ]
        }
      ]
    },
    {
      "cell_type": "code",
      "source": [
        "y_val_pred=log_model.predict(x_val)\n",
        "print(classification_report(y_val,y_val_pred, zero_division=0))"
      ],
      "metadata": {
        "colab": {
          "base_uri": "https://localhost:8080/"
        },
        "id": "44wi4GLb8QoK",
        "outputId": "dc10117c-49d3-4a83-8d31-7d282d7996f6"
      },
      "execution_count": 10,
      "outputs": [
        {
          "output_type": "stream",
          "name": "stdout",
          "text": [
            "              precision    recall  f1-score   support\n",
            "\n",
            "           0       0.56      0.21      0.31       127\n",
            "           1       0.44      0.15      0.22        55\n",
            "           2       0.38      0.04      0.07        72\n",
            "           3       1.00      0.06      0.11        52\n",
            "           4       0.00      0.00      0.00        16\n",
            "           5       0.55      0.57      0.56       783\n",
            "           6       1.00      0.02      0.03        59\n",
            "           7       0.63      0.89      0.74      1277\n",
            "           8       0.53      0.80      0.64      1327\n",
            "           9       0.57      0.06      0.11        65\n",
            "          10       0.00      0.00      0.00        36\n",
            "          11       0.80      0.29      0.42        14\n",
            "          12       0.00      0.00      0.00        23\n",
            "          13       0.74      0.55      0.63       227\n",
            "          14       0.64      0.45      0.53        62\n",
            "          15       0.00      0.00      0.00        28\n",
            "          16       0.00      0.00      0.00        36\n",
            "          17       0.00      0.00      0.00        15\n",
            "          18       0.60      0.09      0.16       101\n",
            "          19       0.00      0.00      0.00        83\n",
            "          20       0.60      0.17      0.26        71\n",
            "          21       0.53      0.31      0.39       532\n",
            "          22       0.86      0.24      0.38        49\n",
            "          23       1.00      0.10      0.18        41\n",
            "          24       0.49      0.12      0.19       157\n",
            "          25       0.00      0.00      0.00        16\n",
            "          26       0.92      0.79      0.85        98\n",
            "\n",
            "    accuracy                           0.58      5422\n",
            "   macro avg       0.48      0.22      0.25      5422\n",
            "weighted avg       0.57      0.58      0.53      5422\n",
            "\n"
          ]
        }
      ]
    },
    {
      "cell_type": "code",
      "source": [
        "y_test_pred=log_model.predict(X_test)\n",
        "print(classification_report(y_test,y_test_pred, zero_division=0))"
      ],
      "metadata": {
        "colab": {
          "base_uri": "https://localhost:8080/"
        },
        "id": "RqqpGo0S8drD",
        "outputId": "8b7a67a2-b846-4021-9e51-2f55fefdfdfb"
      },
      "execution_count": 12,
      "outputs": [
        {
          "output_type": "stream",
          "name": "stdout",
          "text": [
            "              precision    recall  f1-score   support\n",
            "\n",
            "           0       0.54      0.25      0.34      1314\n",
            "           1       0.62      0.17      0.27       590\n",
            "           2       0.69      0.14      0.24       775\n",
            "           3       0.67      0.01      0.02       498\n",
            "           4       0.00      0.00      0.00       264\n",
            "           5       0.55      0.58      0.56      7446\n",
            "           6       0.50      0.02      0.03       505\n",
            "           7       0.65      0.88      0.75     13096\n",
            "           8       0.53      0.81      0.64     13612\n",
            "           9       0.56      0.07      0.13       783\n",
            "          10       1.00      0.01      0.02       322\n",
            "          11       0.91      0.47      0.62       193\n",
            "          12       0.00      0.00      0.00       243\n",
            "          13       0.67      0.56      0.61      2204\n",
            "          14       0.70      0.40      0.51       731\n",
            "          15       0.50      0.00      0.01       276\n",
            "          16       1.00      0.00      0.01       318\n",
            "          17       0.73      0.04      0.08       181\n",
            "          18       0.56      0.12      0.20       883\n",
            "          19       0.29      0.01      0.02       672\n",
            "          20       0.63      0.20      0.30       646\n",
            "          21       0.53      0.32      0.40      5072\n",
            "          22       0.81      0.20      0.32       431\n",
            "          23       0.63      0.09      0.15       391\n",
            "          24       0.42      0.11      0.17      1590\n",
            "          25       0.00      0.00      0.00       132\n",
            "          26       0.93      0.69      0.79      1032\n",
            "\n",
            "    accuracy                           0.59     54200\n",
            "   macro avg       0.58      0.23      0.27     54200\n",
            "weighted avg       0.58      0.59      0.54     54200\n",
            "\n"
          ]
        }
      ]
    },
    {
      "cell_type": "code",
      "source": [
        "#SupportVector\n",
        "svc_model=LinearSVC(dual=False)\n",
        "svc_model.fit(x_train,y_train)\n",
        "\n",
        "y_train_pred1=svc_model.predict(x_train)\n",
        "print(classification_report(y_train,y_train_pred1, zero_division=0))"
      ],
      "metadata": {
        "colab": {
          "base_uri": "https://localhost:8080/"
        },
        "id": "L9DiYcrd8zfN",
        "outputId": "458dfde6-62b5-4394-b6c9-9a5a8bf261b8"
      },
      "execution_count": 33,
      "outputs": [
        {
          "output_type": "stream",
          "name": "stdout",
          "text": [
            "              precision    recall  f1-score   support\n",
            "\n",
            "           0       1.00      0.99      0.99      1188\n",
            "           1       1.00      1.00      1.00       535\n",
            "           2       1.00      0.99      0.99       703\n",
            "           3       1.00      0.99      0.99       446\n",
            "           4       1.00      0.94      0.97       249\n",
            "           5       0.99      0.98      0.99      6664\n",
            "           6       1.00      0.98      0.99       446\n",
            "           7       0.98      0.99      0.99     11819\n",
            "           8       0.97      0.99      0.98     12286\n",
            "           9       0.99      0.97      0.98       719\n",
            "          10       1.00      0.99      0.99       287\n",
            "          11       1.00      1.00      1.00       180\n",
            "          12       1.00      0.93      0.96       220\n",
            "          13       0.99      1.00      0.99      1977\n",
            "          14       1.00      0.99      1.00       669\n",
            "          15       1.00      0.98      0.99       249\n",
            "          16       1.00      0.98      0.99       283\n",
            "          17       1.00      0.97      0.98       166\n",
            "          18       1.00      0.98      0.99       783\n",
            "          19       1.00      0.96      0.98       589\n",
            "          20       1.00      1.00      1.00       576\n",
            "          21       0.99      0.95      0.97      4541\n",
            "          22       0.99      0.99      0.99       383\n",
            "          23       1.00      0.99      0.99       350\n",
            "          24       0.99      0.96      0.98      1434\n",
            "          25       1.00      0.97      0.99       116\n",
            "          26       1.00      1.00      1.00       934\n",
            "\n",
            "    accuracy                           0.98     48792\n",
            "   macro avg       1.00      0.98      0.99     48792\n",
            "weighted avg       0.98      0.98      0.98     48792\n",
            "\n"
          ]
        }
      ]
    },
    {
      "cell_type": "code",
      "source": [
        "y_val_pred1=svc_model.predict(x_val)\n",
        "print(classification_report(y_val,y_val_pred1, zero_division=0))"
      ],
      "metadata": {
        "colab": {
          "base_uri": "https://localhost:8080/"
        },
        "id": "6aEvVpOK-qrz",
        "outputId": "8d8e2fca-e237-44fb-b3e3-d3ac168a79b5"
      },
      "execution_count": 27,
      "outputs": [
        {
          "output_type": "stream",
          "name": "stdout",
          "text": [
            "              precision    recall  f1-score   support\n",
            "\n",
            "           0       0.40      0.28      0.33       127\n",
            "           1       0.56      0.36      0.44        55\n",
            "           2       0.48      0.18      0.26        72\n",
            "           3       0.54      0.13      0.22        52\n",
            "           4       0.00      0.00      0.00        16\n",
            "           5       0.56      0.58      0.57       783\n",
            "           6       0.50      0.07      0.12        59\n",
            "           7       0.68      0.85      0.76      1277\n",
            "           8       0.56      0.73      0.64      1327\n",
            "           9       0.31      0.17      0.22        65\n",
            "          10       0.29      0.06      0.09        36\n",
            "          11       0.64      0.50      0.56        14\n",
            "          12       0.00      0.00      0.00        23\n",
            "          13       0.71      0.66      0.68       227\n",
            "          14       0.56      0.65      0.60        62\n",
            "          15       0.40      0.07      0.12        28\n",
            "          16       0.40      0.06      0.10        36\n",
            "          17       0.33      0.13      0.19        15\n",
            "          18       0.53      0.24      0.33       101\n",
            "          19       0.25      0.04      0.06        83\n",
            "          20       0.61      0.39      0.48        71\n",
            "          21       0.45      0.37      0.41       532\n",
            "          22       0.84      0.53      0.65        49\n",
            "          23       0.50      0.17      0.25        41\n",
            "          24       0.32      0.16      0.21       157\n",
            "          25       0.50      0.06      0.11        16\n",
            "          26       0.85      0.91      0.88        98\n",
            "\n",
            "    accuracy                           0.59      5422\n",
            "   macro avg       0.47      0.31      0.34      5422\n",
            "weighted avg       0.57      0.59      0.56      5422\n",
            "\n"
          ]
        }
      ]
    },
    {
      "cell_type": "code",
      "source": [
        "y_test_pred1=svc_model.predict(X_test)\n",
        "print(classification_report(y_test,y_test_pred1))"
      ],
      "metadata": {
        "colab": {
          "base_uri": "https://localhost:8080/"
        },
        "id": "6SwSBMZL-ztQ",
        "outputId": "49513ad9-53cd-49a6-8dac-eee16a811b6d"
      },
      "execution_count": 28,
      "outputs": [
        {
          "output_type": "stream",
          "name": "stdout",
          "text": [
            "              precision    recall  f1-score   support\n",
            "\n",
            "           0       0.44      0.35      0.39      1314\n",
            "           1       0.67      0.43      0.52       590\n",
            "           2       0.52      0.24      0.33       775\n",
            "           3       0.44      0.12      0.19       498\n",
            "           4       0.00      0.00      0.00       264\n",
            "           5       0.56      0.58      0.57      7446\n",
            "           6       0.35      0.07      0.12       505\n",
            "           7       0.69      0.84      0.75     13096\n",
            "           8       0.57      0.72      0.64     13612\n",
            "           9       0.42      0.16      0.24       783\n",
            "          10       0.31      0.07      0.12       322\n",
            "          11       0.77      0.62      0.69       193\n",
            "          12       0.21      0.01      0.02       243\n",
            "          13       0.62      0.64      0.63      2204\n",
            "          14       0.62      0.56      0.59       731\n",
            "          15       0.36      0.06      0.10       276\n",
            "          16       0.38      0.06      0.10       318\n",
            "          17       0.61      0.17      0.26       181\n",
            "          18       0.50      0.24      0.33       883\n",
            "          19       0.31      0.06      0.10       672\n",
            "          20       0.54      0.35      0.42       646\n",
            "          21       0.45      0.37      0.41      5072\n",
            "          22       0.64      0.41      0.50       431\n",
            "          23       0.57      0.26      0.36       391\n",
            "          24       0.32      0.18      0.23      1590\n",
            "          25       0.68      0.10      0.17       132\n",
            "          26       0.85      0.84      0.84      1032\n",
            "\n",
            "    accuracy                           0.59     54200\n",
            "   macro avg       0.50      0.32      0.36     54200\n",
            "weighted avg       0.57      0.59      0.56     54200\n",
            "\n"
          ]
        }
      ]
    },
    {
      "cell_type": "code",
      "source": [
        "\n",
        "def predict_genre(title, description, model, vectorizer, label_encoder):\n",
        "\n",
        "    data = pd.DataFrame({'TITLE': [title], 'DESCRIPTION': [description]})\n",
        "\n",
        "    data['combined_text'] = data['TITLE'] + ' ' + data['DESCRIPTION']\n",
        "\n",
        "    X_new = vectorizer.transform(data['combined_text'])\n",
        "\n",
        "    y_pred = model.predict(X_new)\n",
        "\n",
        "    predicted_genre = label_encoder.inverse_transform(y_pred)[0]\n",
        "\n",
        "    return predicted_genre"
      ],
      "metadata": {
        "id": "fHuQAzgn-6YK"
      },
      "execution_count": 37,
      "outputs": []
    }
  ]
}
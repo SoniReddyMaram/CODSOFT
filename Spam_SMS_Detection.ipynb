{
  "nbformat": 4,
  "nbformat_minor": 0,
  "metadata": {
    "colab": {
      "provenance": []
    },
    "kernelspec": {
      "name": "python3",
      "display_name": "Python 3"
    },
    "language_info": {
      "name": "python"
    }
  },
  "cells": [
    {
      "cell_type": "code",
      "execution_count": 3,
      "metadata": {
        "colab": {
          "base_uri": "https://localhost:8080/"
        },
        "id": "HilgIyko7snE",
        "outputId": "32071e4f-23f2-4225-bf33-95895aa29a87"
      },
      "outputs": [
        {
          "output_type": "stream",
          "name": "stdout",
          "text": [
            "Index(['label', 'text'], dtype='object')\n",
            "Naive Bayes Model\n",
            "Accuracy: 0.96\n",
            "Precision: 1.00\n",
            "Recall: 0.72\n",
            "F1 Score: 0.84\n",
            "---\n",
            "Logistic Regression Model\n",
            "Accuracy: 0.97\n",
            "Precision: 0.99\n",
            "Recall: 0.75\n",
            "F1 Score: 0.86\n",
            "---\n",
            "Support Vector Machine Model\n",
            "Accuracy: 0.98\n",
            "Precision: 1.00\n",
            "Recall: 0.87\n",
            "F1 Score: 0.93\n",
            "---\n"
          ]
        }
      ],
      "source": [
        "# Step 1: Import necessary libraries\n",
        "import pandas as pd\n",
        "from sklearn.model_selection import train_test_split\n",
        "from sklearn.feature_extraction.text import TfidfVectorizer\n",
        "from sklearn.naive_bayes import MultinomialNB\n",
        "from sklearn.linear_model import LogisticRegression\n",
        "from sklearn.svm import SVC\n",
        "from sklearn.metrics import accuracy_score, precision_score, recall_score, f1_score\n",
        "\n",
        "# Step 2: Load the dataset\n",
        "# You can replace this with your dataset\n",
        "url = '/content/spam.csv'\n",
        "df = pd.read_csv(url, encoding='latin-1')\n",
        "\n",
        "# Remove unnecessary label names\n",
        "df = df.drop(['Unnamed: 2', 'Unnamed: 3', 'Unnamed: 4'], axis=1)\n",
        "df = df.rename(columns={'v1': 'label', 'v2': 'text'})\n",
        "\n",
        "print(df.columns)\n",
        "\n",
        "# Step 3: Data preprocessing\n",
        "df['label'] = df['label'].map({'ham': 0, 'spam': 1})\n",
        "\n",
        "# Step 4: Train-test split\n",
        "X_train, X_test, y_train, y_test = train_test_split(df['text'], df['label'], test_size=0.2, random_state=42)\n",
        "\n",
        "# Step 5: Feature extraction using TF-IDF\n",
        "vectorizer = TfidfVectorizer()\n",
        "X_train_tfidf = vectorizer.fit_transform(X_train)\n",
        "X_test_tfidf = vectorizer.transform(X_test)\n",
        "\n",
        "# Step 6: Train the models\n",
        "# Naive Bayes\n",
        "nb_model = MultinomialNB()\n",
        "nb_model.fit(X_train_tfidf, y_train)\n",
        "nb_pred = nb_model.predict(X_test_tfidf)\n",
        "\n",
        "# Logistic Regression\n",
        "lr_model = LogisticRegression()\n",
        "lr_model.fit(X_train_tfidf, y_train)\n",
        "lr_pred = lr_model.predict(X_test_tfidf)\n",
        "\n",
        "# Support Vector Machine\n",
        "svm_model = SVC()\n",
        "svm_model.fit(X_train_tfidf, y_train)\n",
        "svm_pred = svm_model.predict(X_test_tfidf)\n",
        "\n",
        "# Step 7: Evaluate the models\n",
        "def evaluate_model(y_test, y_pred, model_name):\n",
        "    accuracy = accuracy_score(y_test, y_pred)\n",
        "    precision = precision_score(y_test, y_pred)\n",
        "    recall = recall_score(y_test, y_pred)\n",
        "    f1 = f1_score(y_test, y_pred)\n",
        "    print(f'{model_name} Model')\n",
        "    print(f'Accuracy: {accuracy:.2f}')\n",
        "    print(f'Precision: {precision:.2f}')\n",
        "    print(f'Recall: {recall:.2f}')\n",
        "    print(f'F1 Score: {f1:.2f}')\n",
        "    print('---')\n",
        "\n",
        "# Evaluate Naive Bayes\n",
        "evaluate_model(y_test, nb_pred, 'Naive Bayes')\n",
        "\n",
        "# Evaluate Logistic Regression\n",
        "evaluate_model(y_test, lr_pred, 'Logistic Regression')\n",
        "\n",
        "# Evaluate Support Vector Machine\n",
        "evaluate_model(y_test, svm_pred, 'Support Vector Machine')\n"
      ]
    }
  ]
}